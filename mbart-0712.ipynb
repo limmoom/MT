{
 "cells": [
  {
   "cell_type": "code",
   "execution_count": 1,
   "metadata": {
    "collapsed": true
   },
   "outputs": [],
   "source": [
    "import csv\n",
    "import numpy as np\n",
    "import pandas as pd\n",
    "import torch.nn as nn\n",
    "from torch.utils.data import Dataset, DataLoader\n",
    "from tqdm import tqdm\n",
    "from transformers import MBart50TokenizerFast, MBartForConditionalGeneration, MBartTokenizer\n",
    "import random\n",
    "import os"
   ]
  },
  {
   "cell_type": "code",
   "execution_count": 2,
   "outputs": [],
   "source": [
    "import torch"
   ],
   "metadata": {
    "collapsed": false
   }
  },
  {
   "cell_type": "code",
   "execution_count": 3,
   "outputs": [],
   "source": [
    "train_data_m = 'EvaHan2023_train_data/train_24_histories_m_utf8.txt'\n",
    "train_data_c = 'EvaHan2023_train_data/train_24-historoes_c_utf8.txt'"
   ],
   "metadata": {
    "collapsed": false
   }
  },
  {
   "cell_type": "code",
   "execution_count": 4,
   "outputs": [],
   "source": [
    "device = torch.device(\"cuda:0\" if torch.cuda.is_available() else \"cpu\")"
   ],
   "metadata": {
    "collapsed": false
   }
  },
  {
   "cell_type": "code",
   "execution_count": 5,
   "outputs": [],
   "source": [
    "model_name = \"facebook/mbart-large-cc25\"\n",
    "output_dir = './model_save/mbart-large-cc25'"
   ],
   "metadata": {
    "collapsed": false
   }
  },
  {
   "cell_type": "code",
   "execution_count": 6,
   "outputs": [],
   "source": [
    "def processdata(filename_m, filename_c):\n",
    "    with open(filename_m, 'r', encoding='utf-8') as f:\n",
    "        data_m = [i.strip().split('\\n') for i in f.readlines()]\n",
    "    with open(filename_c, 'r', encoding='utf-8') as g:\n",
    "        data_c = [i.strip().split('\\n') for i in g.readlines()]\n",
    "    df = pd.DataFrame({'source':data_c, 'target':data_m})\n",
    "    return df"
   ],
   "metadata": {
    "collapsed": false
   }
  },
  {
   "cell_type": "code",
   "execution_count": 7,
   "outputs": [],
   "source": [
    "class CustomDataset(Dataset):\n",
    "    def __init__(self, data, src_lang, tgt_lang, model_name, with_labels = True):\n",
    "        self.tokenizer = MBartTokenizer.from_pretrained(model_name)\n",
    "        self.src_lang = src_lang\n",
    "        self.tgt_lang = tgt_lang\n",
    "        self.with_labels = with_labels\n",
    "        self.data = data\n",
    "\n",
    "    def __len__(self):\n",
    "        return len(self.data)\n",
    "\n",
    "    def __getitem__(self, index):\n",
    "        if self.with_labels:\n",
    "            src = self.data.loc[index,'source']\n",
    "            tgt = self.data.loc[index,'target']\n",
    "            batch = self.tokenizer(src, tgt_texts = tgt, src_lang = self.src_lang, tgt_lang = self.tgt_lang, return_tensors=\"pt\")\n",
    "            # input_ids = batch[\"input_ids\"].squeeze(0)\n",
    "            # target_ids = batch[\"labels\"].squeeze(0)\n",
    "            # return input_ids, target_ids\n",
    "        else:\n",
    "            src = self.data.loc[index,'source']\n",
    "            batch = self.tokenizer(src, src_lang = self.src_lang, return_tensors=\"pt\")\n",
    "            # input_ids = batch[\"input_ids\"].squeeze(0)\n",
    "            # return input_ids\n",
    "        return batch"
   ],
   "metadata": {
    "collapsed": false
   }
  },
  {
   "cell_type": "code",
   "execution_count": null,
   "outputs": [],
   "source": [
    "class MyModel(nn.Module):\n",
    "    def __init__(self, model_name, freeze_bert = False):\n",
    "        super().__init__()\n",
    "        self.tokenizer = MBartTokenizer.from_pretrained(model_name)\n",
    "        self.model = MBartForConditionalGeneration.from_pretrained(model_name)\n",
    "        if freeze_bert:\n",
    "            for p in self.model.parameters():\n",
    "                p.requires_grad = False\n",
    "\n",
    "    def forward(self, input_ids, labels):\n",
    "        output = self.model(input_ids, labels=labels)\n",
    "        return output.loss\n",
    "\n",
    "    def generate(self, input_ids, labels, decoder_start_token):\n",
    "        generated_tokens = self.model.generate(input_ids, decoder_start_token_id = self.tokenizer.lang_code_to_id[decoder_start_token])\n",
    "        generated_sentences = self.tokenizer.batch_decode(generated_tokens, skip_special_tokens=True)[0]\n",
    "        ground_truth_sentences = self.tokenizer.batch_decode(labels, skip_special_tokens=True)[0]\n",
    "        return generated_sentences, ground_truth_sentences"
   ],
   "metadata": {
    "collapsed": false
   }
  }
 ],
 "metadata": {
  "kernelspec": {
   "display_name": "Python 3",
   "language": "python",
   "name": "python3"
  },
  "language_info": {
   "codemirror_mode": {
    "name": "ipython",
    "version": 2
   },
   "file_extension": ".py",
   "mimetype": "text/x-python",
   "name": "python",
   "nbconvert_exporter": "python",
   "pygments_lexer": "ipython2",
   "version": "2.7.6"
  }
 },
 "nbformat": 4,
 "nbformat_minor": 0
}
